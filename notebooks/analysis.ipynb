{
 "cells": [
  {
   "cell_type": "code",
   "execution_count": null,
   "metadata": {},
   "outputs": [],
   "source": [
    "import sys\n",
    "sys.path.append('../src')\n",
    "\n",
    "import pandas as pd\n",
    "from data.make_dataset import load_data, preprocess\n",
    "from models.train_model import train_model\n",
    "from models.predict_model import load_model, predict\n",
    "from sklearn.metrics import f1_score\n",
    "from visualization.visualize import plot_monthly_performance\n"
   ]
  },
  {
   "cell_type": "code",
   "execution_count": null,
   "metadata": {},
   "outputs": [],
   "source": [
    "target_col = \"high_tip\"\n",
    "\n",
    "# Cargar y procesar datos de enero 2020 (entrenamiento)\n",
    "train_data = load_data('../data/raw/yellow_tripdata_2020-01.parquet')\n",
    "train_data = preprocess(train_data, target_col=target_col)\n"
   ]
  },
  {
   "cell_type": "code",
   "execution_count": null,
   "metadata": {},
   "outputs": [],
   "source": [
    "# Definir características\n",
    "features = [\n",
    "    \"pickup_weekday\",\n",
    "    \"pickup_hour\",\n",
    "    'work_hours',\n",
    "    \"pickup_minute\",\n",
    "    \"passenger_count\",\n",
    "    'trip_distance',\n",
    "    'trip_time',\n",
    "    'trip_speed',\n",
    "    \"PULocationID\",\n",
    "    \"DOLocationID\",\n",
    "    \"RatecodeID\"\n",
    "]\n"
   ]
  },
  {
   "cell_type": "code",
   "execution_count": null,
   "metadata": {},
   "outputs": [],
   "source": [
    "# Entrenar modelo\n",
    "model = train_model(train_data, features, target_col)\n"
   ]
  },
  {
   "cell_type": "code",
   "execution_count": null,
   "metadata": {},
   "outputs": [],
   "source": [
    "# Cargar datos de prueba y predecir para cada mes\n",
    "monthly_performance = {}\n",
    "for month in ['02', '03', '04']:\n",
    "    test_data = load_data(f'../data/raw/yellow_tripdata_2020-{month}.parquet')\n",
    "    test_data = preprocess(test_data, target_col=target_col)\n",
    "    predictions = predict(test_data, model, features)\n",
    "    f1 = f1_score(test_data[target_col], predictions)\n",
    "    monthly_performance[month] = f1\n",
    "    print(f'Month: 2020-{month}, F1 Score: {f1}')\n"
   ]
  },
  {
   "cell_type": "code",
   "execution_count": null,
   "metadata": {},
   "outputs": [],
   "source": [
    "# Visualizar rendimiento mensual\n",
    "plot_monthly_performance(monthly_performance)"
   ]
  },
  {
   "cell_type": "code",
   "execution_count": null,
   "metadata": {},
   "outputs": [],
   "source": [
    "# Guardar el modelo\n",
    "import joblib\n",
    "joblib.dump(model, '../models/random_forest.joblib')"
   ]
  }
 ],
 "metadata": {
  "language_info": {
   "name": "python"
  }
 },
 "nbformat": 4,
 "nbformat_minor": 2
}
