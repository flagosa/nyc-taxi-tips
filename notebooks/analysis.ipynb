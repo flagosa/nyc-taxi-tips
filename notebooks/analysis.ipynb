{
 "cells": [
  {
   "cell_type": "code",
   "execution_count": 1,
   "metadata": {},
   "outputs": [
    {
     "ename": "ModuleNotFoundError",
     "evalue": "No module named 'tests.statistical_tests'",
     "output_type": "error",
     "traceback": [
      "\u001b[1;31m---------------------------------------------------------------------------\u001b[0m",
      "\u001b[1;31mModuleNotFoundError\u001b[0m                       Traceback (most recent call last)",
      "Cell \u001b[1;32mIn[1], line 8\u001b[0m\n\u001b[0;32m      6\u001b[0m \u001b[38;5;28;01mfrom\u001b[39;00m \u001b[38;5;21;01mmodels\u001b[39;00m\u001b[38;5;21;01m.\u001b[39;00m\u001b[38;5;21;01mtrain_model\u001b[39;00m \u001b[38;5;28;01mimport\u001b[39;00m train_model\n\u001b[0;32m      7\u001b[0m \u001b[38;5;28;01mfrom\u001b[39;00m \u001b[38;5;21;01mmodels\u001b[39;00m\u001b[38;5;21;01m.\u001b[39;00m\u001b[38;5;21;01mpredict_model\u001b[39;00m \u001b[38;5;28;01mimport\u001b[39;00m load_model, predict\n\u001b[1;32m----> 8\u001b[0m \u001b[38;5;28;01mfrom\u001b[39;00m \u001b[38;5;21;01mtests\u001b[39;00m\u001b[38;5;21;01m.\u001b[39;00m\u001b[38;5;21;01mstatistical_tests\u001b[39;00m \u001b[38;5;28;01mimport\u001b[39;00m perform_stat_tests\n\u001b[0;32m      9\u001b[0m \u001b[38;5;28;01mfrom\u001b[39;00m \u001b[38;5;21;01msklearn\u001b[39;00m\u001b[38;5;21;01m.\u001b[39;00m\u001b[38;5;21;01mmetrics\u001b[39;00m \u001b[38;5;28;01mimport\u001b[39;00m f1_score\n\u001b[0;32m     10\u001b[0m \u001b[38;5;28;01mfrom\u001b[39;00m \u001b[38;5;21;01mvisualization\u001b[39;00m\u001b[38;5;21;01m.\u001b[39;00m\u001b[38;5;21;01mvisualize\u001b[39;00m \u001b[38;5;28;01mimport\u001b[39;00m plot_monthly_performance, plot_ks_results\n",
      "\u001b[1;31mModuleNotFoundError\u001b[0m: No module named 'tests.statistical_tests'"
     ]
    }
   ],
   "source": [
    "import sys\n",
    "sys.path.append('../src')\n",
    "\n",
    "import pandas as pd\n",
    "from data.make_dataset import load_data, preprocess\n",
    "from models.train_model import train_model\n",
    "from models.predict_model import load_model, predict\n",
    "from tests.statistical_tests import perform_stat_tests\n",
    "from sklearn.metrics import f1_score\n",
    "from visualization.visualize import plot_monthly_performance, plot_ks_results\n"
   ]
  },
  {
   "cell_type": "code",
   "execution_count": null,
   "metadata": {},
   "outputs": [],
   "source": [
    "target_col = \"high_tip\"\n",
    "\n",
    "# Cargar y procesar datos de enero 2020 (entrenamiento)\n",
    "train_data, features = preprocess(load_data('https://d37ci6vzurychx.cloudfront.net/trip-data/yellow_tripdata_2020-01.parquet'), target_col=target_col)"
   ]
  },
  {
   "cell_type": "code",
   "execution_count": null,
   "metadata": {},
   "outputs": [],
   "source": [
    "# Entrenar modelo\n",
    "model = train_model(train_data, features, target_col)"
   ]
  },
  {
   "cell_type": "code",
   "execution_count": null,
   "metadata": {},
   "outputs": [],
   "source": [
    "# Lista de meses a analizar\n",
    "months = ['02', '03', '04']"
   ]
  },
  {
   "cell_type": "code",
   "execution_count": null,
   "metadata": {},
   "outputs": [],
   "source": [
    "# Cargar datos de prueba, predecir y realizar test estadísticos para cada mes\n",
    "for month in months:\n",
    "    test_data, _ = preprocess(load_data(f'../data/raw/yellow_tripdata_2020-{month}.parquet'), target_col=target_col)\n",
    "    predictions = predict(test_data, model, features)\n",
    "    f1 = f1_score(test_data[target_col], predictions)\n",
    "    monthly_performance[month] = f1\n",
    "    ks_stats = perform_stat_tests(train_data, test_data, features)\n",
    "    ks_results[month] = ks_stats\n",
    "    print(f'Month: 2020-{month}, F1 Score: {f1}')\n",
    "    for feature, (ks_stat, ks_pvalue) in ks_stats.items():\n",
    "        print(f'Feature: {feature}, KS Statistic: {ks_stat}, P-value: {ks_pvalue}')"
   ]
  },
  {
   "cell_type": "code",
   "execution_count": null,
   "metadata": {},
   "outputs": [],
   "source": [
    "# Visualizar rendimiento mensual\n",
    "plot_monthly_performance(monthly_performance)"
   ]
  },
  {
   "cell_type": "code",
   "execution_count": null,
   "metadata": {},
   "outputs": [],
   "source": [
    "# Guardar el modelo\n",
    "import joblib\n",
    "joblib.dump(model, '../models/random_forest.joblib')"
   ]
  },
  {
   "cell_type": "code",
   "execution_count": null,
   "metadata": {},
   "outputs": [],
   "source": [
    "# Visualizar resultados de los test estadísticos\n",
    "plot_ks_results(ks_results, months, features)"
   ]
  },
  {
   "cell_type": "code",
   "execution_count": null,
   "metadata": {},
   "outputs": [],
   "source": [
    "plot_ks_results(ks_results, months, features)"
   ]
  },
  {
   "cell_type": "code",
   "execution_count": null,
   "metadata": {},
   "outputs": [],
   "source": [
    "# Análisis de Resultados\n",
    "for month, f1 in monthly_performance.items():\n",
    "    print(f'Month: 2020-{month}, F1 Score: {f1}')\n",
    "    print(\"KS Test Results:\")\n",
    "    for feature, (ks_stat, ks_pvalue) in ks_results[month].items():\n",
    "        print(f'Feature: {feature}, KS Statistic: {ks_stat}, P-value: {ks_pvalue}')"
   ]
  },
  {
   "cell_type": "code",
   "execution_count": null,
   "metadata": {},
   "outputs": [],
   "source": [
    "# Comentarios sobre los resultados\n",
    "# Aquí analizamos las posibles razones detrás de la variación en el F1 Score entre los meses.\n",
    "# Los test estadísticos (KS Test) nos ayudan a determinar si la distribución de las características ha cambiado\n",
    "# significativamente entre los meses, lo cual podría explicar la degradación del rendimiento del modelo.\n"
   ]
  }
 ],
 "metadata": {
  "kernelspec": {
   "display_name": "Python (nyc-taxi-tips-env)",
   "language": "python",
   "name": "nyc-taxi-tips-env"
  },
  "language_info": {
   "codemirror_mode": {
    "name": "ipython",
    "version": 3
   },
   "file_extension": ".py",
   "mimetype": "text/x-python",
   "name": "python",
   "nbconvert_exporter": "python",
   "pygments_lexer": "ipython3",
   "version": "3.11.7"
  }
 },
 "nbformat": 4,
 "nbformat_minor": 4
}
