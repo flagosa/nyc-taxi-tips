{
 "cells": [
  {
   "cell_type": "code",
   "execution_count": null,
   "metadata": {},
   "outputs": [],
   "source": [
    "import sys\n",
    "sys.path.append('../src')\n",
    "import os\n",
    "import pandas as pd\n",
    "from data.make_dataset import load_data, preprocess\n",
    "from models.train_model import train_model\n",
    "from models.predict_model import load_model, predict\n",
    "from tests.statistical_test import perform_stat_tests\n",
    "from sklearn.metrics import f1_score\n",
    "from visualization.visualize import plot_monthly_performance, plot_ks_results\n",
    "\n"
   ]
  },
  {
   "cell_type": "code",
   "execution_count": null,
   "metadata": {},
   "outputs": [],
   "source": [
    "target_col = \"high_tip\"\n",
    "\n",
    "# Cargar y procesar datos de enero 2020 (entrenamiento)\n",
    "train_data, features = preprocess(load_data('https://d37ci6vzurychx.cloudfront.net/trip-data/yellow_tripdata_2020-01.parquet'), target_col=target_col)\n"
   ]
  },
  {
   "cell_type": "code",
   "execution_count": null,
   "metadata": {},
   "outputs": [],
   "source": [
    "# Entrenar modelo\n",
    "model = train_model(train_data, features, target_col)"
   ]
  },
  {
   "cell_type": "code",
   "execution_count": null,
   "metadata": {},
   "outputs": [],
   "source": [
    "# Inicializar el diccionario de resultados\n",
    "monthly_performance = {}\n",
    "ks_results = {}"
   ]
  },
  {
   "cell_type": "code",
   "execution_count": null,
   "metadata": {},
   "outputs": [],
   "source": [
    "# Lista de meses a analizar\n",
    "months = ['02', '03', '04']"
   ]
  },
  {
   "cell_type": "code",
   "execution_count": null,
   "metadata": {},
   "outputs": [],
   "source": [
    "# Cargar datos de prueba, predecir y realizar test estadísticos para cada mes\n",
    "for month in months:\n",
    "    test_data, _ = preprocess(load_data(f'https://d37ci6vzurychx.cloudfront.net/trip-data/yellow_tripdata_2020-{month}.parquet'), target_col=target_col)\n",
    "    predictions = predict(test_data, model, features)\n",
    "    f1 = f1_score(test_data[target_col], predictions)\n",
    "    monthly_performance[month] = f1\n",
    "    ks_stats = perform_stat_tests(train_data, test_data, features)\n",
    "    ks_results[month] = ks_stats\n",
    "    print(f'Month: 2020-{month}, F1 Score: {f1}')\n",
    "    for feature, (ks_stat, ks_pvalue) in ks_stats.items():\n",
    "        print(f'Feature: {feature}, KS Statistic: {ks_stat}, P-value: {ks_pvalue}')\n"
   ]
  },
  {
   "cell_type": "code",
   "execution_count": null,
   "metadata": {},
   "outputs": [],
   "source": [
    "# Visualizar rendimiento mensual\n",
    "plot_monthly_performance(monthly_performance)"
   ]
  },
  {
   "cell_type": "code",
   "execution_count": null,
   "metadata": {},
   "outputs": [],
   "source": [
    "# Visualizar resultados de los test estadísticos\n",
    "plot_ks_results(ks_results, months, features)"
   ]
  },
  {
   "cell_type": "code",
   "execution_count": null,
   "metadata": {},
   "outputs": [],
   "source": [
    "# Análisis de Resultados\n",
    "for month, f1 in monthly_performance.items():\n",
    "    print(f'Month: 2020-{month}, F1 Score: {f1}')\n",
    "    print(\"KS Test Results:\")\n",
    "    for feature, (ks_stat, ks_pvalue) in ks_results[month].items():\n",
    "        print(f'Feature: {feature}, KS Statistic: {ks_stat}, P-value: {ks_pvalue}')"
   ]
  },
  {
   "cell_type": "markdown",
   "metadata": {},
   "source": [
    "# Observación del F1 Score\n",
    "- Febrero 2020: F1 Score = 0.735\n",
    "        El modelo tiene un rendimiento razonable en febrero, con un F1 Score de 0.735.\n",
    "\n",
    "- Marzo 2020: F1 Score = 0.725\n",
    "        El rendimiento del modelo se mantiene similar al de febrero, con un ligero descenso en el F1 Score.\n",
    "        \n",
    "- Abril 2020: F1 Score = 0.610\n",
    "        Se observa una degradación significativa en el rendimiento del modelo en abril, con un F1 Score de 0.610.\n",
    "\n",
    "# Análisis de los Resultados del Test KS\n",
    "Los valores del test KS indican la magnitud de las diferencias en la distribución de cada característica entre el conjunto de entrenamiento (enero) y los conjuntos de prueba (febrero, marzo y abril).\n",
    "\n",
    "- Febrero 2020:\n",
    "\n",
    "    - Las características como pickup_weekday, pickup_hour, work_hours, trip_distance, trip_time, y trip_speed tienen valores KS bajos pero significativos, indicando cambios leves en las distribuciones.\n",
    "    - Las características pickup_minute y passenger_count muestran valores KS más bajos y p-valores muy pequeños, indicando diferencias menores pero aún significativas.\n",
    "    - La distribución de RatecodeID también muestra diferencias significativas.\n",
    "\n",
    "- Marzo 2020:\n",
    "\n",
    "    - Se observan mayores diferencias en pickup_weekday, pickup_hour, work_hours, trip_distance, y trip_time en comparación con febrero, lo que podría explicar la ligera degradación en el F1 Score.\n",
    "    - Las características PULocationID y DOLocationID tienen valores KS más altos que en febrero, sugiriendo cambios en las ubicaciones de recogida y destino.\n",
    "\n",
    "-   Abril 2020:\n",
    "\n",
    "    - Las características pickup_weekday, pickup_hour, work_hours, passenger_count, trip_distance, trip_time, y trip_speed muestran valores KS significativamente más altos que en los meses anteriores, indicando cambios drásticos en las distribuciones de estas características.\n",
    "    - trip_speed tiene un valor KS especialmente alto (0.376), lo que sugiere un cambio importante en la velocidad de los viajes en comparación con enero.\n",
    "    - Estas diferencias sustanciales en las distribuciones de las características explican la degradación considerable del F1 Score en abril."
   ]
  },
  {
   "cell_type": "markdown",
   "metadata": {},
   "source": [
    "La variación en el F1 Score entre los meses se puede atribuir a los cambios en las distribuciones de las características entre enero (conjunto de entrenamiento) y los meses de prueba (febrero, marzo y abril). Los resultados del test KS proporcionan evidencia estadística de que las distribuciones de varias características han cambiado significativamente, lo que afecta el rendimiento del modelo.\n",
    "\n",
    "Por lo tanto, es importante monitorear las características de entrada y ajustar el modelo a medida que los datos evolucionan con el tiempo para mantener el rendimiento."
   ]
  }
 ],
 "metadata": {
  "kernelspec": {
   "display_name": "Python 3",
   "language": "python",
   "name": "python3"
  },
  "language_info": {
   "codemirror_mode": {
    "name": "ipython",
    "version": 3
   },
   "file_extension": ".py",
   "mimetype": "text/x-python",
   "name": "python",
   "nbconvert_exporter": "python",
   "pygments_lexer": "ipython3",
   "version": "3.11.7"
  }
 },
 "nbformat": 4,
 "nbformat_minor": 2
}
